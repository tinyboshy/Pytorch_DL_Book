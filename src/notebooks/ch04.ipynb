{
 "cells": [
  {
   "cell_type": "code",
   "execution_count": 9,
   "metadata": {},
   "outputs": [],
   "source": [
    "import torch\n",
    "import torch.nn as nn\n",
    "import numpy as np\n",
    "import matplotlib.pyplot as plt\n",
    "import japanize_matplotlib\n"
   ]
  },
  {
   "cell_type": "code",
   "execution_count": 3,
   "metadata": {},
   "outputs": [],
   "source": [
    "l1 = nn.Linear(784, 128)\n",
    "l2 = nn.Linear(128, 10)\n",
    "relu = nn.ReLU(inplace=True)"
   ]
  },
  {
   "cell_type": "code",
   "execution_count": 5,
   "metadata": {},
   "outputs": [
    {
     "name": "stdout",
     "output_type": "stream",
     "text": [
      "input tensor:  torch.Size([100, 784])\n",
      "output tensor:  torch.Size([100, 10])\n"
     ]
    }
   ],
   "source": [
    "inputs = torch.randn(100, 784)\n",
    "\n",
    "m1 = l1(inputs)\n",
    "m2 = relu(m1)\n",
    "outputs = l2(m2)\n",
    "\n",
    "print('input tensor: ', inputs.shape)\n",
    "print('output tensor: ', outputs.shape)"
   ]
  },
  {
   "cell_type": "code",
   "execution_count": 7,
   "metadata": {},
   "outputs": [
    {
     "name": "stdout",
     "output_type": "stream",
     "text": [
      "input tensor:  torch.Size([100, 784])\n",
      "output tensor:  torch.Size([100, 10])\n"
     ]
    }
   ],
   "source": [
    "net2 = nn.Sequential(\n",
    "    l1,\n",
    "    relu,\n",
    "    l2\n",
    ")\n",
    "\n",
    "outputs2 = net2(inputs)\n",
    "\n",
    "print('input tensor: ', inputs.shape)\n",
    "print('output tensor: ', outputs.shape)"
   ]
  },
  {
   "cell_type": "code",
   "execution_count": 15,
   "metadata": {},
   "outputs": [],
   "source": [
    "np.random.seed(123)\n",
    "x = np.random.randn(100, 1)\n",
    "y = x**2 + np.random.randn(100, 1) * 0.1\n",
    "\n",
    "x_train = x[:50, :]\n",
    "x_test = x[50:, :]\n",
    "y_train = y[:50, :]\n",
    "y_test = y[50:, :]"
   ]
  },
  {
   "cell_type": "code",
   "execution_count": 16,
   "metadata": {},
   "outputs": [
    {
     "data": {
      "image/png": "[encoded data removed]",
      "text/plain": [
       "<Figure size 432x288 with 1 Axes>"
      ]
     },
     "metadata": {
      "needs_background": "light"
     },
     "output_type": "display_data"
    }
   ],
   "source": [
    "plt.scatter(x_train, y_train, c='b', label='train data')\n",
    "plt.scatter(x_test, y_test, c='k', label='validation data')\n",
    "plt.legend()\n",
    "plt.grid()\n",
    "plt.show()"
   ]
  },
  {
   "cell_type": "code",
   "execution_count": null,
   "metadata": {},
   "outputs": [],
   "source": []
  }
 ],
 "metadata": {
  "interpreter": {
   "hash": "d4d1e4263499bec80672ea0156c357c1ee493ec2b1c70f0acce89fc37c4a6abe"
  },
  "kernelspec": {
   "display_name": "Python 3.8.8 64-bit ('base': conda)",
   "name": "python3"
  },
  "language_info": {
   "codemirror_mode": {
    "name": "ipython",
    "version": 3
   },
   "file_extension": ".py",
   "mimetype": "text/x-python",
   "name": "python",
   "nbconvert_exporter": "python",
   "pygments_lexer": "ipython3",
   "version": "3.8.8"
  },
  "orig_nbformat": 4
 },
 "nbformat": 4,
 "nbformat_minor": 2
}
