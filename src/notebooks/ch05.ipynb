{
 "cells": [
  {
   "cell_type": "code",
   "execution_count": 1,
   "metadata": {},
   "outputs": [],
   "source": [
    "import torch\n",
    "import torch.nn as nn\n",
    "import torch.optim as optim\n",
    "import numpy as np\n",
    "import matplotlib.pyplot as plt\n",
    "import japanize_matplotlib\n",
    "import pandas as pd\n",
    "from torchinfo import summary\n",
    "from torchviz import make_dot"
   ]
  },
  {
   "cell_type": "code",
   "execution_count": 2,
   "metadata": {},
   "outputs": [],
   "source": [
    "l3 = nn.Linear(2, 3)"
   ]
  },
  {
   "cell_type": "code",
   "execution_count": 3,
   "metadata": {},
   "outputs": [
    {
     "name": "stdout",
     "output_type": "stream",
     "text": [
      "Linear(in_features=1, out_features=1, bias=True)\n"
     ]
    }
   ],
   "source": [
    "torch.manual_seed(123)\n",
    "l1 = nn.Linear(1, 1)\n",
    "print(l1)"
   ]
  },
  {
   "cell_type": "code",
   "execution_count": 4,
   "metadata": {},
   "outputs": [
    {
     "name": "stdout",
     "output_type": "stream",
     "text": [
      "name:  weight\n",
      "tensor:  Parameter containing:\n",
      "tensor([[-0.4078]], requires_grad=True)\n",
      "shape:  torch.Size([1, 1])\n",
      "name:  bias\n",
      "tensor:  Parameter containing:\n",
      "tensor([0.0331], requires_grad=True)\n",
      "shape:  torch.Size([1])\n"
     ]
    }
   ],
   "source": [
    "for param in l1.named_parameters():\n",
    "    print('name: ', param[0])\n",
    "    print('tensor: ', param[1])\n",
    "    print('shape: ', param[1].shape)"
   ]
  },
  {
   "cell_type": "code",
   "execution_count": 5,
   "metadata": {},
   "outputs": [
    {
     "name": "stdout",
     "output_type": "stream",
     "text": [
      "Parameter containing:\n",
      "tensor([[2.]], requires_grad=True)\n",
      "Parameter containing:\n",
      "tensor([1.], requires_grad=True)\n"
     ]
    }
   ],
   "source": [
    "nn.init.constant_(l1.weight, 2.0)\n",
    "nn.init.constant_(l1.bias, 1.0)\n",
    "print(l1.weight)\n",
    "print(l1.bias)"
   ]
  },
  {
   "cell_type": "code",
   "execution_count": 6,
   "metadata": {},
   "outputs": [
    {
     "name": "stdout",
     "output_type": "stream",
     "text": [
      "torch.Size([5, 1])\n",
      "tensor([[-2.],\n",
      "        [-1.],\n",
      "        [ 0.],\n",
      "        [ 1.],\n",
      "        [ 2.]])\n"
     ]
    }
   ],
   "source": [
    "x_np = np.arange(-2, 2.1, 1)\n",
    "x = torch.tensor(x_np).float()\n",
    "x = x.view(-1, 1)\n",
    "print(x.shape)\n",
    "print(x)"
   ]
  },
  {
   "cell_type": "code",
   "execution_count": 7,
   "metadata": {},
   "outputs": [
    {
     "name": "stdout",
     "output_type": "stream",
     "text": [
      "torch.Size([5, 1])\n",
      "tensor([[-3.],\n",
      "        [-1.],\n",
      "        [ 1.],\n",
      "        [ 3.],\n",
      "        [ 5.]], grad_fn=<AddmmBackward>)\n"
     ]
    }
   ],
   "source": [
    "y = l1(x)\n",
    "print(y.shape)\n",
    "print(y)"
   ]
  },
  {
   "cell_type": "code",
   "execution_count": 8,
   "metadata": {},
   "outputs": [
    {
     "name": "stdout",
     "output_type": "stream",
     "text": [
      "Parameter containing:\n",
      "tensor([[1., 1.]], requires_grad=True)\n",
      "Parameter containing:\n",
      "tensor([2.], requires_grad=True)\n"
     ]
    }
   ],
   "source": [
    "l2 = nn.Linear(2, 1)\n",
    "nn.init.constant_(l2.weight, 1.0)\n",
    "nn.init.constant_(l2.bias, 2.0)\n",
    "print(l2.weight)\n",
    "print(l2.bias)"
   ]
  },
  {
   "cell_type": "code",
   "execution_count": 9,
   "metadata": {},
   "outputs": [
    {
     "name": "stdout",
     "output_type": "stream",
     "text": [
      "torch.Size([4, 2])\n",
      "tensor([[0., 0.],\n",
      "        [0., 1.],\n",
      "        [1., 0.],\n",
      "        [1., 1.]])\n"
     ]
    }
   ],
   "source": [
    "x2_np = np.array([\n",
    "    [0, 0],\n",
    "    [0, 1],\n",
    "    [1, 0],\n",
    "    [1, 1]\n",
    "])\n",
    "x2 = torch.tensor(x2_np).float()\n",
    "\n",
    "print(x2.shape)\n",
    "print(x2)"
   ]
  },
  {
   "cell_type": "code",
   "execution_count": 10,
   "metadata": {},
   "outputs": [
    {
     "name": "stdout",
     "output_type": "stream",
     "text": [
      "torch.Size([4, 1])\n",
      "tensor([[2.],\n",
      "        [3.],\n",
      "        [3.],\n",
      "        [4.]])\n"
     ]
    }
   ],
   "source": [
    "y2 = l2(x2)\n",
    "print(y2.shape)\n",
    "print(y2.data)"
   ]
  },
  {
   "cell_type": "code",
   "execution_count": 11,
   "metadata": {},
   "outputs": [
    {
     "name": "stdout",
     "output_type": "stream",
     "text": [
      "Parameter containing:\n",
      "tensor([[1., 1.],\n",
      "        [2., 2.],\n",
      "        [3., 3.]], requires_grad=True)\n",
      "Parameter containing:\n",
      "tensor([2., 2., 2.], requires_grad=True)\n"
     ]
    }
   ],
   "source": [
    "l3 = nn.Linear(2, 3)\n",
    "\n",
    "nn.init.constant_(l3.weight[0, :], 1.0)\n",
    "nn.init.constant_(l3.weight[1, :], 2.0)\n",
    "nn.init.constant_(l3.weight[2, :], 3.0)\n",
    "nn.init.constant_(l3.bias, 2.0)\n",
    "\n",
    "print(l3.weight)\n",
    "print(l3.bias)"
   ]
  },
  {
   "cell_type": "code",
   "execution_count": 12,
   "metadata": {},
   "outputs": [
    {
     "name": "stdout",
     "output_type": "stream",
     "text": [
      "torch.Size([4, 3])\n",
      "tensor([[2., 2., 2.],\n",
      "        [3., 4., 5.],\n",
      "        [3., 4., 5.],\n",
      "        [4., 6., 8.]])\n"
     ]
    }
   ],
   "source": [
    "y3 = l3(x2)\n",
    "print(y3.shape)\n",
    "print(y3.data)"
   ]
  },
  {
   "cell_type": "code",
   "execution_count": 13,
   "metadata": {},
   "outputs": [],
   "source": [
    "class Net(nn.Module):\n",
    "    def __init__(self, n_input, n_output):\n",
    "        super().__init__()\n",
    "        self.l1 = nn.Linear(n_input, n_output)\n",
    "\n",
    "    def forward(self, x):\n",
    "        x1 = self.l1(x)\n",
    "        return x1"
   ]
  },
  {
   "cell_type": "code",
   "execution_count": 14,
   "metadata": {},
   "outputs": [],
   "source": [
    "inputs = torch.ones(100, 1)\n",
    "\n",
    "n_input = 1\n",
    "n_output = 1\n",
    "net = Net(n_input, n_output)\n",
    "\n",
    "outputs = net(inputs)"
   ]
  },
  {
   "cell_type": "code",
   "execution_count": 15,
   "metadata": {},
   "outputs": [],
   "source": [
    "from sklearn.datasets import load_boston"
   ]
  },
  {
   "cell_type": "code",
   "execution_count": 16,
   "metadata": {},
   "outputs": [
    {
     "name": "stdout",
     "output_type": "stream",
     "text": [
      "元データ:  (506, 13) (506,)\n",
      "項目名:  ['CRIM' 'ZN' 'INDUS' 'CHAS' 'NOX' 'RM' 'AGE' 'DIS' 'RAD' 'TAX' 'PTRATIO'\n",
      " 'B' 'LSTAT']\n"
     ]
    },
    {
     "name": "stderr",
     "output_type": "stream",
     "text": [
      "/home/docker/.local/lib/python3.8/site-packages/sklearn/utils/deprecation.py:87: FutureWarning: Function load_boston is deprecated; `load_boston` is deprecated in 1.0 and will be removed in 1.2.\n",
      "\n",
      "    The Boston housing prices dataset has an ethical problem. You can refer to\n",
      "    the documentation of this function for further details.\n",
      "\n",
      "    The scikit-learn maintainers therefore strongly discourage the use of this\n",
      "    dataset unless the purpose of the code is to study and educate about\n",
      "    ethical issues in data science and machine learning.\n",
      "\n",
      "    In this special case, you can fetch the dataset from the original\n",
      "    source::\n",
      "\n",
      "        import pandas as pd\n",
      "        import numpy as np\n",
      "\n",
      "\n",
      "        data_url = \"http://lib.stat.cmu.edu/datasets/boston\"\n",
      "        raw_df = pd.read_csv(data_url, sep=\"\\s+\", skiprows=22, header=None)\n",
      "        data = np.hstack([raw_df.values[::2, :], raw_df.values[1::2, :2]])\n",
      "        target = raw_df.values[1::2, 2]\n",
      "\n",
      "    Alternative datasets include the California housing dataset (i.e.\n",
      "    :func:`~sklearn.datasets.fetch_california_housing`) and the Ames housing\n",
      "    dataset. You can load the datasets as follows::\n",
      "\n",
      "        from sklearn.datasets import fetch_california_housing\n",
      "        housing = fetch_california_housing()\n",
      "\n",
      "    for the California housing dataset and::\n",
      "\n",
      "        from sklearn.datasets import fetch_openml\n",
      "        housing = fetch_openml(name=\"house_prices\", as_frame=True)\n",
      "\n",
      "    for the Ames housing dataset.\n",
      "    \n",
      "  warnings.warn(msg, category=FutureWarning)\n"
     ]
    }
   ],
   "source": [
    "boston = load_boston()\n",
    "\n",
    "x_org, yt = boston.data, boston.target\n",
    "feature_names = boston.feature_names\n",
    "\n",
    "print('元データ: ', x_org.shape, yt.shape)\n",
    "print('項目名: ', feature_names)"
   ]
  },
  {
   "cell_type": "code",
   "execution_count": 17,
   "metadata": {},
   "outputs": [
    {
     "name": "stdout",
     "output_type": "stream",
     "text": [
      "絞り込み後:  (506, 1)\n",
      "[[6.575]\n",
      " [6.421]\n",
      " [7.185]\n",
      " [6.998]\n",
      " [7.147]]\n",
      "正解データ\n",
      "[24.  21.6 34.7 33.4 36.2]\n"
     ]
    }
   ],
   "source": [
    "x = x_org[:, feature_names == 'RM']\n",
    "print('絞り込み後: ', x.shape)\n",
    "print(x[:5, :])\n",
    "print('正解データ')\n",
    "print(yt[:5])"
   ]
  },
  {
   "cell_type": "code",
   "execution_count": 18,
   "metadata": {},
   "outputs": [
    {
     "data": {
      "image/png": "[encoded data removed]",
      "text/plain": [
       "<Figure size 432x288 with 1 Axes>"
      ]
     },
     "metadata": {
      "needs_background": "light"
     },
     "output_type": "display_data"
    }
   ],
   "source": [
    "plt.scatter(x, yt, s=10, c='b')\n",
    "plt.xlabel('部屋数')\n",
    "plt.ylabel('価格')\n",
    "plt.title('部屋数と価格の散布図')\n",
    "plt.grid()\n",
    "plt.show()"
   ]
  },
  {
   "cell_type": "code",
   "execution_count": 19,
   "metadata": {},
   "outputs": [
    {
     "name": "stdout",
     "output_type": "stream",
     "text": [
      "入力次元数: 1, 出力次元数: 1\n"
     ]
    }
   ],
   "source": [
    "n_input = x.shape[1]\n",
    "n_output = 1\n",
    "print(f'入力次元数: {n_input}, 出力次元数: {n_output}')"
   ]
  },
  {
   "cell_type": "code",
   "execution_count": 20,
   "metadata": {},
   "outputs": [],
   "source": [
    "class Net(nn.Module):\n",
    "    def __init__(self, n_input, n_output):\n",
    "        super().__init__()\n",
    "\n",
    "        self.l1 = nn.Linear(n_input, n_output)\n",
    "\n",
    "        nn.init.constant_(self.l1.weight, 1.0)\n",
    "        nn.init.constant_(self.l1.bias, 1.0)\n",
    "\n",
    "    def forward(self, x):\n",
    "        x1 = self.l1(x)\n",
    "        return x1"
   ]
  },
  {
   "cell_type": "code",
   "execution_count": 21,
   "metadata": {},
   "outputs": [],
   "source": [
    "net = Net(n_input, n_output)"
   ]
  },
  {
   "cell_type": "code",
   "execution_count": 22,
   "metadata": {},
   "outputs": [
    {
     "name": "stdout",
     "output_type": "stream",
     "text": [
      "変数名: l1.weight\n",
      "変数値: tensor([[1.]])\n",
      "変数名: l1.bias\n",
      "変数値: tensor([1.])\n"
     ]
    }
   ],
   "source": [
    "for parameter in net.named_parameters():\n",
    "    print(f'変数名: {parameter[0]}')\n",
    "    print(f'変数値: {parameter[1].data}')"
   ]
  },
  {
   "cell_type": "code",
   "execution_count": 23,
   "metadata": {},
   "outputs": [
    {
     "name": "stdout",
     "output_type": "stream",
     "text": [
      "Parameter containing:\n",
      "tensor([[1.]], requires_grad=True)\n",
      "Parameter containing:\n",
      "tensor([1.], requires_grad=True)\n"
     ]
    }
   ],
   "source": [
    "for parameter in net.parameters():\n",
    "    print(parameter)"
   ]
  },
  {
   "cell_type": "code",
   "execution_count": 24,
   "metadata": {},
   "outputs": [
    {
     "name": "stdout",
     "output_type": "stream",
     "text": [
      "Net(\n",
      "  (l1): Linear(in_features=1, out_features=1, bias=True)\n",
      ")\n"
     ]
    }
   ],
   "source": [
    "print(net)"
   ]
  },
  {
   "cell_type": "code",
   "execution_count": 25,
   "metadata": {},
   "outputs": [
    {
     "data": {
      "text/plain": [
       "==========================================================================================\n",
       "Layer (type:depth-idx)                   Output Shape              Param #\n",
       "==========================================================================================\n",
       "Net                                      --                        --\n",
       "├─Linear: 1-1                            [1]                       2\n",
       "==========================================================================================\n",
       "Total params: 2\n",
       "Trainable params: 2\n",
       "Non-trainable params: 0\n",
       "Total mult-adds (M): 0.00\n",
       "==========================================================================================\n",
       "Input size (MB): 0.00\n",
       "Forward/backward pass size (MB): 0.00\n",
       "Params size (MB): 0.00\n",
       "Estimated Total Size (MB): 0.00\n",
       "=========================================================================================="
      ]
     },
     "execution_count": 25,
     "metadata": {},
     "output_type": "execute_result"
    }
   ],
   "source": [
    "summary(net, (1,))"
   ]
  },
  {
   "cell_type": "code",
   "execution_count": 26,
   "metadata": {},
   "outputs": [],
   "source": [
    "criterion = nn.MSELoss()\n",
    "\n",
    "lr = 0.01\n",
    "optimizer = optim.SGD(net.parameters(), lr=lr)"
   ]
  },
  {
   "cell_type": "code",
   "execution_count": 27,
   "metadata": {},
   "outputs": [
    {
     "name": "stdout",
     "output_type": "stream",
     "text": [
      "torch.Size([506, 1])\n",
      "torch.Size([506])\n"
     ]
    }
   ],
   "source": [
    "inputs = torch.tensor(x).float()\n",
    "labels = torch.tensor(yt).float()\n",
    "print(inputs.shape)\n",
    "print(labels.shape)"
   ]
  },
  {
   "cell_type": "code",
   "execution_count": 28,
   "metadata": {},
   "outputs": [
    {
     "name": "stdout",
     "output_type": "stream",
     "text": [
      "torch.Size([506, 1])\n"
     ]
    }
   ],
   "source": [
    "labels1 = labels.view((-1, 1))\n",
    "print(labels1.shape)"
   ]
  },
  {
   "cell_type": "code",
   "execution_count": 29,
   "metadata": {},
   "outputs": [],
   "source": [
    "net.to('cpu')\n",
    "outputs = net(inputs)"
   ]
  },
  {
   "cell_type": "code",
   "execution_count": 30,
   "metadata": {},
   "outputs": [
    {
     "name": "stdout",
     "output_type": "stream",
     "text": [
      "308.44986\n"
     ]
    }
   ],
   "source": [
    "loss = criterion(outputs, labels1)\n",
    "print(f'{loss.item():.5f}')"
   ]
  },
  {
   "cell_type": "code",
   "execution_count": 31,
   "metadata": {},
   "outputs": [
    {
     "data": {
      "image/svg+xml": "<?xml version=\"1.0\" encoding=\"UTF-8\" standalone=\"no\"?>\n<!DOCTYPE svg PUBLIC \"-//W3C//DTD SVG 1.1//EN\"\n \"http://www.w3.org/Graphics/SVG/1.1/DTD/svg11.dtd\">\n<!-- Generated by graphviz version 2.40.1 (20161225.0304)\n -->\n<!-- Title: %3 Pages: 1 -->\n<svg width=\"213pt\" height=\"336pt\"\n viewBox=\"0.00 0.00 213.00 336.00\" xmlns=\"http://www.w3.org/2000/svg\" xmlns:xlink=\"http://www.w3.org/1999/xlink\">\n<g id=\"graph0\" class=\"graph\" transform=\"scale(1 1) rotate(0) translate(4 332)\">\n<title>%3</title>\n<polygon fill=\"#ffffff\" stroke=\"transparent\" points=\"-4,4 -4,-332 209,-332 209,4 -4,4\"/>\n<!-- 140155636955776 -->\n<g id=\"node1\" class=\"node\">\n<title>140155636955776</title>\n<polygon fill=\"#caff70\" stroke=\"#000000\" points=\"129.5,-31 75.5,-31 75.5,0 129.5,0 129.5,-31\"/>\n<text text-anchor=\"middle\" x=\"102.5\" y=\"-7\" font-family=\"monospace\" font-size=\"10.00\" fill=\"#000000\"> ()</text>\n</g>\n<!-- 140155636394880 -->\n<g id=\"node2\" class=\"node\">\n<title>140155636394880</title>\n<polygon fill=\"#d3d3d3\" stroke=\"#000000\" points=\"156,-86 49,-86 49,-67 156,-67 156,-86\"/>\n<text text-anchor=\"middle\" x=\"102.5\" y=\"-74\" font-family=\"monospace\" font-size=\"10.00\" fill=\"#000000\">MseLossBackward</text>\n</g>\n<!-- 140155636394880&#45;&gt;140155636955776 -->\n<g id=\"edge7\" class=\"edge\">\n<title>140155636394880&#45;&gt;140155636955776</title>\n<path fill=\"none\" stroke=\"#000000\" d=\"M102.5,-66.9688C102.5,-60.1289 102.5,-50.5621 102.5,-41.5298\"/>\n<polygon fill=\"#000000\" stroke=\"#000000\" points=\"106.0001,-41.3678 102.5,-31.3678 99.0001,-41.3678 106.0001,-41.3678\"/>\n</g>\n<!-- 140155636395216 -->\n<g id=\"node3\" class=\"node\">\n<title>140155636395216</title>\n<polygon fill=\"#d3d3d3\" stroke=\"#000000\" points=\"150,-141 55,-141 55,-122 150,-122 150,-141\"/>\n<text text-anchor=\"middle\" x=\"102.5\" y=\"-129\" font-family=\"monospace\" font-size=\"10.00\" fill=\"#000000\">AddmmBackward</text>\n</g>\n<!-- 140155636395216&#45;&gt;140155636394880 -->\n<g id=\"edge1\" class=\"edge\">\n<title>140155636395216&#45;&gt;140155636394880</title>\n<path fill=\"none\" stroke=\"#000000\" d=\"M102.5,-121.9197C102.5,-114.9083 102.5,-105.1442 102.5,-96.4652\"/>\n<polygon fill=\"#000000\" stroke=\"#000000\" points=\"106.0001,-96.3408 102.5,-86.3408 99.0001,-96.3409 106.0001,-96.3408\"/>\n</g>\n<!-- 140155636395984 -->\n<g id=\"node4\" class=\"node\">\n<title>140155636395984</title>\n<polygon fill=\"#d3d3d3\" stroke=\"#000000\" points=\"101,-196 0,-196 0,-177 101,-177 101,-196\"/>\n<text text-anchor=\"middle\" x=\"50.5\" y=\"-184\" font-family=\"monospace\" font-size=\"10.00\" fill=\"#000000\">AccumulateGrad</text>\n</g>\n<!-- 140155636395984&#45;&gt;140155636395216 -->\n<g id=\"edge2\" class=\"edge\">\n<title>140155636395984&#45;&gt;140155636395216</title>\n<path fill=\"none\" stroke=\"#000000\" d=\"M59.5577,-176.9197C66.9232,-169.1293 77.5017,-157.9405 86.3161,-148.6176\"/>\n<polygon fill=\"#000000\" stroke=\"#000000\" points=\"88.8691,-151.0119 93.1959,-141.3408 83.7825,-146.2028 88.8691,-151.0119\"/>\n</g>\n<!-- 140155635959296 -->\n<g id=\"node5\" class=\"node\">\n<title>140155635959296</title>\n<polygon fill=\"#add8e6\" stroke=\"#000000\" points=\"80,-262 21,-262 21,-232 80,-232 80,-262\"/>\n<text text-anchor=\"middle\" x=\"50.5\" y=\"-250\" font-family=\"monospace\" font-size=\"10.00\" fill=\"#000000\">l1.bias</text>\n<text text-anchor=\"middle\" x=\"50.5\" y=\"-239\" font-family=\"monospace\" font-size=\"10.00\" fill=\"#000000\"> (1)</text>\n</g>\n<!-- 140155635959296&#45;&gt;140155636395984 -->\n<g id=\"edge3\" class=\"edge\">\n<title>140155635959296&#45;&gt;140155636395984</title>\n<path fill=\"none\" stroke=\"#000000\" d=\"M50.5,-231.7333C50.5,-224.0322 50.5,-214.5977 50.5,-206.3414\"/>\n<polygon fill=\"#000000\" stroke=\"#000000\" points=\"54.0001,-206.0864 50.5,-196.0864 47.0001,-206.0864 54.0001,-206.0864\"/>\n</g>\n<!-- 140155636395840 -->\n<g id=\"node6\" class=\"node\">\n<title>140155636395840</title>\n<polygon fill=\"#d3d3d3\" stroke=\"#000000\" points=\"190,-196 119,-196 119,-177 190,-177 190,-196\"/>\n<text text-anchor=\"middle\" x=\"154.5\" y=\"-184\" font-family=\"monospace\" font-size=\"10.00\" fill=\"#000000\">TBackward</text>\n</g>\n<!-- 140155636395840&#45;&gt;140155636395216 -->\n<g id=\"edge4\" class=\"edge\">\n<title>140155636395840&#45;&gt;140155636395216</title>\n<path fill=\"none\" stroke=\"#000000\" d=\"M145.4423,-176.9197C138.0768,-169.1293 127.4983,-157.9405 118.6839,-148.6176\"/>\n<polygon fill=\"#000000\" stroke=\"#000000\" points=\"121.2175,-146.2028 111.8041,-141.3408 116.1309,-151.0119 121.2175,-146.2028\"/>\n</g>\n<!-- 140155636395072 -->\n<g id=\"node7\" class=\"node\">\n<title>140155636395072</title>\n<polygon fill=\"#d3d3d3\" stroke=\"#000000\" points=\"205,-256.5 104,-256.5 104,-237.5 205,-237.5 205,-256.5\"/>\n<text text-anchor=\"middle\" x=\"154.5\" y=\"-244.5\" font-family=\"monospace\" font-size=\"10.00\" fill=\"#000000\">AccumulateGrad</text>\n</g>\n<!-- 140155636395072&#45;&gt;140155636395840 -->\n<g id=\"edge5\" class=\"edge\">\n<title>140155636395072&#45;&gt;140155636395840</title>\n<path fill=\"none\" stroke=\"#000000\" d=\"M154.5,-237.2796C154.5,-229.0376 154.5,-216.9457 154.5,-206.629\"/>\n<polygon fill=\"#000000\" stroke=\"#000000\" points=\"158.0001,-206.3972 154.5,-196.3972 151.0001,-206.3973 158.0001,-206.3972\"/>\n</g>\n<!-- 140155635959424 -->\n<g id=\"node8\" class=\"node\">\n<title>140155635959424</title>\n<polygon fill=\"#add8e6\" stroke=\"#000000\" points=\"190,-328 119,-328 119,-298 190,-298 190,-328\"/>\n<text text-anchor=\"middle\" x=\"154.5\" y=\"-316\" font-family=\"monospace\" font-size=\"10.00\" fill=\"#000000\">l1.weight</text>\n<text text-anchor=\"middle\" x=\"154.5\" y=\"-305\" font-family=\"monospace\" font-size=\"10.00\" fill=\"#000000\"> (1, 1)</text>\n</g>\n<!-- 140155635959424&#45;&gt;140155636395072 -->\n<g id=\"edge6\" class=\"edge\">\n<title>140155635959424&#45;&gt;140155636395072</title>\n<path fill=\"none\" stroke=\"#000000\" d=\"M154.5,-297.6924C154.5,-288.5067 154.5,-276.7245 154.5,-266.8312\"/>\n<polygon fill=\"#000000\" stroke=\"#000000\" points=\"158.0001,-266.703 154.5,-256.7031 151.0001,-266.7031 158.0001,-266.703\"/>\n</g>\n</g>\n</svg>\n",
      "text/plain": [
       "<graphviz.dot.Digraph at 0x7f7886ebad00>"
      ]
     },
     "metadata": {},
     "output_type": "display_data"
    }
   ],
   "source": [
    "g = make_dot(loss, params=dict(net.named_parameters()))\n",
    "display(g)"
   ]
  },
  {
   "cell_type": "code",
   "execution_count": 32,
   "metadata": {},
   "outputs": [
    {
     "name": "stdout",
     "output_type": "stream",
     "text": [
      "tensor([[-199.6421]])\n",
      "tensor([-30.4963])\n"
     ]
    }
   ],
   "source": [
    "outputs = net(inputs)\n",
    "loss = criterion(outputs, labels1)\n",
    "\n",
    "loss.backward()\n",
    "\n",
    "print(net.l1.weight.grad)\n",
    "print(net.l1.bias.grad)"
   ]
  },
  {
   "cell_type": "code",
   "execution_count": 33,
   "metadata": {},
   "outputs": [
    {
     "name": "stdout",
     "output_type": "stream",
     "text": [
      "Parameter containing:\n",
      "tensor([[2.9964]], requires_grad=True)\n",
      "Parameter containing:\n",
      "tensor([1.3050], requires_grad=True)\n"
     ]
    }
   ],
   "source": [
    "optimizer.step()\n",
    "print(net.l1.weight)\n",
    "print(net.l1.bias)"
   ]
  },
  {
   "cell_type": "code",
   "execution_count": 34,
   "metadata": {},
   "outputs": [
    {
     "name": "stdout",
     "output_type": "stream",
     "text": [
      "tensor([[0.]])\n",
      "tensor([0.])\n"
     ]
    }
   ],
   "source": [
    "optimizer.zero_grad()\n",
    "\n",
    "print(net.l1.weight.grad)\n",
    "print(net.l1.bias.grad)"
   ]
  },
  {
   "cell_type": "code",
   "execution_count": 35,
   "metadata": {},
   "outputs": [],
   "source": [
    "lr = 0.01\n",
    "net = Net(n_input, n_output).to('cpu')\n",
    "criterion = nn.MSELoss()\n",
    "optimizer = optim.SGD(net.parameters(), lr=lr)\n",
    "num_epochs = 50000\n",
    "history = np.zeros((0, 2))"
   ]
  },
  {
   "cell_type": "code",
   "execution_count": 36,
   "metadata": {},
   "outputs": [
    {
     "name": "stdout",
     "output_type": "stream",
     "text": [
      "Epoch: 0, loss: 154.22493\n",
      "Epoch: 100, loss: 29.61752\n",
      "Epoch: 200, loss: 29.43177\n",
      "Epoch: 300, loss: 29.25043\n",
      "Epoch: 400, loss: 29.07340\n",
      "Epoch: 500, loss: 28.90057\n",
      "Epoch: 600, loss: 28.73186\n",
      "Epoch: 700, loss: 28.56715\n",
      "Epoch: 800, loss: 28.40636\n",
      "Epoch: 900, loss: 28.24939\n",
      "Epoch: 1000, loss: 28.09615\n",
      "Epoch: 1100, loss: 27.94655\n",
      "Epoch: 1200, loss: 27.80050\n",
      "Epoch: 1300, loss: 27.65792\n",
      "Epoch: 1400, loss: 27.51873\n",
      "Epoch: 1500, loss: 27.38285\n",
      "Epoch: 1600, loss: 27.25020\n",
      "Epoch: 1700, loss: 27.12070\n",
      "Epoch: 1800, loss: 26.99428\n",
      "Epoch: 1900, loss: 26.87086\n",
      "Epoch: 2000, loss: 26.75037\n",
      "Epoch: 2100, loss: 26.63275\n",
      "Epoch: 2200, loss: 26.51792\n",
      "Epoch: 2300, loss: 26.40582\n",
      "Epoch: 2400, loss: 26.29639\n",
      "Epoch: 2500, loss: 26.18955\n",
      "Epoch: 2600, loss: 26.08525\n",
      "Epoch: 2700, loss: 25.98343\n",
      "Epoch: 2800, loss: 25.88404\n",
      "Epoch: 2900, loss: 25.78700\n",
      "Epoch: 3000, loss: 25.69226\n",
      "Epoch: 3100, loss: 25.59978\n",
      "Epoch: 3200, loss: 25.50950\n",
      "Epoch: 3300, loss: 25.42136\n",
      "Epoch: 3400, loss: 25.33532\n",
      "Epoch: 3500, loss: 25.25132\n",
      "Epoch: 3600, loss: 25.16932\n",
      "Epoch: 3700, loss: 25.08927\n",
      "Epoch: 3800, loss: 25.01111\n",
      "Epoch: 3900, loss: 24.93482\n",
      "Epoch: 4000, loss: 24.86034\n",
      "Epoch: 4100, loss: 24.78762\n",
      "Epoch: 4200, loss: 24.71664\n",
      "Epoch: 4300, loss: 24.64734\n",
      "Epoch: 4400, loss: 24.57969\n",
      "Epoch: 4500, loss: 24.51365\n",
      "Epoch: 4600, loss: 24.44917\n",
      "Epoch: 4700, loss: 24.38623\n",
      "Epoch: 4800, loss: 24.32478\n",
      "Epoch: 4900, loss: 24.26480\n",
      "Epoch: 5000, loss: 24.20624\n",
      "Epoch: 5100, loss: 24.14907\n",
      "Epoch: 5200, loss: 24.09326\n",
      "Epoch: 5300, loss: 24.03877\n",
      "Epoch: 5400, loss: 23.98558\n",
      "Epoch: 5500, loss: 23.93365\n",
      "Epoch: 5600, loss: 23.88296\n",
      "Epoch: 5700, loss: 23.83347\n",
      "Epoch: 5800, loss: 23.78516\n",
      "Epoch: 5900, loss: 23.73800\n",
      "Epoch: 6000, loss: 23.69196\n",
      "Epoch: 6100, loss: 23.64701\n",
      "Epoch: 6200, loss: 23.60312\n",
      "Epoch: 6300, loss: 23.56029\n",
      "Epoch: 6400, loss: 23.51847\n",
      "Epoch: 6500, loss: 23.47764\n",
      "Epoch: 6600, loss: 23.43778\n",
      "Epoch: 6700, loss: 23.39887\n",
      "Epoch: 6800, loss: 23.36088\n",
      "Epoch: 6900, loss: 23.32380\n",
      "Epoch: 7000, loss: 23.28760\n",
      "Epoch: 7100, loss: 23.25226\n",
      "Epoch: 7200, loss: 23.21776\n",
      "Epoch: 7300, loss: 23.18408\n",
      "Epoch: 7400, loss: 23.15120\n",
      "Epoch: 7500, loss: 23.11910\n",
      "Epoch: 7600, loss: 23.08776\n",
      "Epoch: 7700, loss: 23.05717\n",
      "Epoch: 7800, loss: 23.02730\n",
      "Epoch: 7900, loss: 22.99814\n",
      "Epoch: 8000, loss: 22.96968\n",
      "Epoch: 8100, loss: 22.94190\n",
      "Epoch: 8200, loss: 22.91477\n",
      "Epoch: 8300, loss: 22.88828\n",
      "Epoch: 8400, loss: 22.86243\n",
      "Epoch: 8500, loss: 22.83719\n",
      "Epoch: 8600, loss: 22.81255\n",
      "Epoch: 8700, loss: 22.78850\n",
      "Epoch: 8800, loss: 22.76502\n",
      "Epoch: 8900, loss: 22.74209\n",
      "Epoch: 9000, loss: 22.71972\n",
      "Epoch: 9100, loss: 22.69787\n",
      "Epoch: 9200, loss: 22.67654\n",
      "Epoch: 9300, loss: 22.65572\n",
      "Epoch: 9400, loss: 22.63539\n",
      "Epoch: 9500, loss: 22.61555\n",
      "Epoch: 9600, loss: 22.59618\n",
      "Epoch: 9700, loss: 22.57727\n",
      "Epoch: 9800, loss: 22.55880\n",
      "Epoch: 9900, loss: 22.54078\n",
      "Epoch: 10000, loss: 22.52318\n",
      "Epoch: 10100, loss: 22.50601\n",
      "Epoch: 10200, loss: 22.48924\n",
      "Epoch: 10300, loss: 22.47287\n",
      "Epoch: 10400, loss: 22.45688\n",
      "Epoch: 10500, loss: 22.44128\n",
      "Epoch: 10600, loss: 22.42605\n",
      "Epoch: 10700, loss: 22.41118\n",
      "Epoch: 10800, loss: 22.39667\n",
      "Epoch: 10900, loss: 22.38249\n",
      "Epoch: 11000, loss: 22.36866\n",
      "Epoch: 11100, loss: 22.35515\n",
      "Epoch: 11200, loss: 22.34197\n",
      "Epoch: 11300, loss: 22.32910\n",
      "Epoch: 11400, loss: 22.31653\n",
      "Epoch: 11500, loss: 22.30426\n",
      "Epoch: 11600, loss: 22.29229\n",
      "Epoch: 11700, loss: 22.28060\n",
      "Epoch: 11800, loss: 22.26919\n",
      "Epoch: 11900, loss: 22.25804\n",
      "Epoch: 12000, loss: 22.24717\n",
      "Epoch: 12100, loss: 22.23655\n",
      "Epoch: 12200, loss: 22.22618\n",
      "Epoch: 12300, loss: 22.21606\n",
      "Epoch: 12400, loss: 22.20618\n",
      "Epoch: 12500, loss: 22.19654\n",
      "Epoch: 12600, loss: 22.18712\n",
      "Epoch: 12700, loss: 22.17793\n",
      "Epoch: 12800, loss: 22.16896\n",
      "Epoch: 12900, loss: 22.16020\n",
      "Epoch: 13000, loss: 22.15165\n",
      "Epoch: 13100, loss: 22.14330\n",
      "Epoch: 13200, loss: 22.13514\n",
      "Epoch: 13300, loss: 22.12719\n",
      "Epoch: 13400, loss: 22.11942\n",
      "Epoch: 13500, loss: 22.11184\n",
      "Epoch: 13600, loss: 22.10443\n",
      "Epoch: 13700, loss: 22.09720\n",
      "Epoch: 13800, loss: 22.09015\n",
      "Epoch: 13900, loss: 22.08326\n",
      "Epoch: 14000, loss: 22.07654\n",
      "Epoch: 14100, loss: 22.06997\n",
      "Epoch: 14200, loss: 22.06357\n",
      "Epoch: 14300, loss: 22.05731\n",
      "Epoch: 14400, loss: 22.05120\n",
      "Epoch: 14500, loss: 22.04524\n",
      "Epoch: 14600, loss: 22.03942\n",
      "Epoch: 14700, loss: 22.03374\n",
      "Epoch: 14800, loss: 22.02819\n",
      "Epoch: 14900, loss: 22.02277\n",
      "Epoch: 15000, loss: 22.01749\n",
      "Epoch: 15100, loss: 22.01233\n",
      "Epoch: 15200, loss: 22.00729\n",
      "Epoch: 15300, loss: 22.00237\n",
      "Epoch: 15400, loss: 21.99757\n",
      "Epoch: 15500, loss: 21.99288\n",
      "Epoch: 15600, loss: 21.98830\n",
      "Epoch: 15700, loss: 21.98384\n",
      "Epoch: 15800, loss: 21.97948\n",
      "Epoch: 15900, loss: 21.97521\n",
      "Epoch: 16000, loss: 21.97106\n",
      "Epoch: 16100, loss: 21.96700\n",
      "Epoch: 16200, loss: 21.96304\n",
      "Epoch: 16300, loss: 21.95917\n",
      "Epoch: 16400, loss: 21.95539\n",
      "Epoch: 16500, loss: 21.95171\n",
      "Epoch: 16600, loss: 21.94811\n",
      "Epoch: 16700, loss: 21.94460\n",
      "Epoch: 16800, loss: 21.94117\n",
      "Epoch: 16900, loss: 21.93782\n",
      "Epoch: 17000, loss: 21.93456\n",
      "Epoch: 17100, loss: 21.93136\n",
      "Epoch: 17200, loss: 21.92825\n",
      "Epoch: 17300, loss: 21.92521\n",
      "Epoch: 17400, loss: 21.92224\n",
      "Epoch: 17500, loss: 21.91934\n",
      "Epoch: 17600, loss: 21.91651\n",
      "Epoch: 17700, loss: 21.91375\n",
      "Epoch: 17800, loss: 21.91106\n",
      "Epoch: 17900, loss: 21.90842\n",
      "Epoch: 18000, loss: 21.90585\n",
      "Epoch: 18100, loss: 21.90334\n",
      "Epoch: 18200, loss: 21.90090\n",
      "Epoch: 18300, loss: 21.89850\n",
      "Epoch: 18400, loss: 21.89617\n",
      "Epoch: 18500, loss: 21.89389\n",
      "Epoch: 18600, loss: 21.89167\n",
      "Epoch: 18700, loss: 21.88950\n",
      "Epoch: 18800, loss: 21.88738\n",
      "Epoch: 18900, loss: 21.88531\n",
      "Epoch: 19000, loss: 21.88329\n",
      "Epoch: 19100, loss: 21.88132\n",
      "Epoch: 19200, loss: 21.87939\n",
      "Epoch: 19300, loss: 21.87751\n",
      "Epoch: 19400, loss: 21.87567\n",
      "Epoch: 19500, loss: 21.87388\n",
      "Epoch: 19600, loss: 21.87213\n",
      "Epoch: 19700, loss: 21.87043\n",
      "Epoch: 19800, loss: 21.86876\n",
      "Epoch: 19900, loss: 21.86713\n",
      "Epoch: 20000, loss: 21.86554\n",
      "Epoch: 20100, loss: 21.86399\n",
      "Epoch: 20200, loss: 21.86248\n",
      "Epoch: 20300, loss: 21.86100\n",
      "Epoch: 20400, loss: 21.85956\n",
      "Epoch: 20500, loss: 21.85815\n",
      "Epoch: 20600, loss: 21.85677\n",
      "Epoch: 20700, loss: 21.85543\n",
      "Epoch: 20800, loss: 21.85412\n",
      "Epoch: 20900, loss: 21.85284\n",
      "Epoch: 21000, loss: 21.85159\n",
      "Epoch: 21100, loss: 21.85038\n",
      "Epoch: 21200, loss: 21.84918\n",
      "Epoch: 21300, loss: 21.84802\n",
      "Epoch: 21400, loss: 21.84689\n",
      "Epoch: 21500, loss: 21.84578\n",
      "Epoch: 21600, loss: 21.84470\n",
      "Epoch: 21700, loss: 21.84364\n",
      "Epoch: 21800, loss: 21.84261\n",
      "Epoch: 21900, loss: 21.84160\n",
      "Epoch: 22000, loss: 21.84063\n",
      "Epoch: 22100, loss: 21.83967\n",
      "Epoch: 22200, loss: 21.83873\n",
      "Epoch: 22300, loss: 21.83782\n",
      "Epoch: 22400, loss: 21.83693\n",
      "Epoch: 22500, loss: 21.83605\n",
      "Epoch: 22600, loss: 21.83520\n",
      "Epoch: 22700, loss: 21.83437\n",
      "Epoch: 22800, loss: 21.83356\n",
      "Epoch: 22900, loss: 21.83278\n",
      "Epoch: 23000, loss: 21.83200\n",
      "Epoch: 23100, loss: 21.83125\n",
      "Epoch: 23200, loss: 21.83051\n",
      "Epoch: 23300, loss: 21.82980\n",
      "Epoch: 23400, loss: 21.82909\n",
      "Epoch: 23500, loss: 21.82841\n",
      "Epoch: 23600, loss: 21.82774\n",
      "Epoch: 23700, loss: 21.82709\n",
      "Epoch: 23800, loss: 21.82645\n",
      "Epoch: 23900, loss: 21.82583\n",
      "Epoch: 24000, loss: 21.82522\n",
      "Epoch: 24100, loss: 21.82463\n",
      "Epoch: 24200, loss: 21.82405\n",
      "Epoch: 24300, loss: 21.82348\n",
      "Epoch: 24400, loss: 21.82293\n",
      "Epoch: 24500, loss: 21.82239\n",
      "Epoch: 24600, loss: 21.82187\n",
      "Epoch: 24700, loss: 21.82136\n",
      "Epoch: 24800, loss: 21.82085\n",
      "Epoch: 24900, loss: 21.82037\n",
      "Epoch: 25000, loss: 21.81989\n",
      "Epoch: 25100, loss: 21.81942\n",
      "Epoch: 25200, loss: 21.81897\n",
      "Epoch: 25300, loss: 21.81853\n",
      "Epoch: 25400, loss: 21.81809\n",
      "Epoch: 25500, loss: 21.81767\n",
      "Epoch: 25600, loss: 21.81726\n",
      "Epoch: 25700, loss: 21.81685\n",
      "Epoch: 25800, loss: 21.81646\n",
      "Epoch: 25900, loss: 21.81607\n",
      "Epoch: 26000, loss: 21.81570\n",
      "Epoch: 26100, loss: 21.81533\n",
      "Epoch: 26200, loss: 21.81497\n",
      "Epoch: 26300, loss: 21.81462\n",
      "Epoch: 26400, loss: 21.81428\n",
      "Epoch: 26500, loss: 21.81395\n",
      "Epoch: 26600, loss: 21.81363\n",
      "Epoch: 26700, loss: 21.81331\n",
      "Epoch: 26800, loss: 21.81300\n",
      "Epoch: 26900, loss: 21.81269\n",
      "Epoch: 27000, loss: 21.81240\n",
      "Epoch: 27100, loss: 21.81211\n",
      "Epoch: 27200, loss: 21.81183\n",
      "Epoch: 27300, loss: 21.81156\n",
      "Epoch: 27400, loss: 21.81129\n",
      "Epoch: 27500, loss: 21.81103\n",
      "Epoch: 27600, loss: 21.81077\n",
      "Epoch: 27700, loss: 21.81052\n",
      "Epoch: 27800, loss: 21.81028\n",
      "Epoch: 27900, loss: 21.81004\n",
      "Epoch: 28000, loss: 21.80981\n",
      "Epoch: 28100, loss: 21.80959\n",
      "Epoch: 28200, loss: 21.80936\n",
      "Epoch: 28300, loss: 21.80915\n",
      "Epoch: 28400, loss: 21.80894\n",
      "Epoch: 28500, loss: 21.80873\n",
      "Epoch: 28600, loss: 21.80853\n",
      "Epoch: 28700, loss: 21.80833\n",
      "Epoch: 28800, loss: 21.80814\n",
      "Epoch: 28900, loss: 21.80795\n",
      "Epoch: 29000, loss: 21.80777\n",
      "Epoch: 29100, loss: 21.80759\n",
      "Epoch: 29200, loss: 21.80742\n",
      "Epoch: 29300, loss: 21.80725\n",
      "Epoch: 29400, loss: 21.80709\n",
      "Epoch: 29500, loss: 21.80693\n",
      "Epoch: 29600, loss: 21.80676\n",
      "Epoch: 29700, loss: 21.80661\n",
      "Epoch: 29800, loss: 21.80646\n",
      "Epoch: 29900, loss: 21.80631\n",
      "Epoch: 30000, loss: 21.80617\n",
      "Epoch: 30100, loss: 21.80603\n",
      "Epoch: 30200, loss: 21.80589\n",
      "Epoch: 30300, loss: 21.80576\n",
      "Epoch: 30400, loss: 21.80563\n",
      "Epoch: 30500, loss: 21.80551\n",
      "Epoch: 30600, loss: 21.80538\n",
      "Epoch: 30700, loss: 21.80526\n",
      "Epoch: 30800, loss: 21.80514\n",
      "Epoch: 30900, loss: 21.80503\n",
      "Epoch: 31000, loss: 21.80491\n",
      "Epoch: 31100, loss: 21.80480\n",
      "Epoch: 31200, loss: 21.80469\n",
      "Epoch: 31300, loss: 21.80459\n",
      "Epoch: 31400, loss: 21.80449\n",
      "Epoch: 31500, loss: 21.80439\n",
      "Epoch: 31600, loss: 21.80429\n",
      "Epoch: 31700, loss: 21.80419\n",
      "Epoch: 31800, loss: 21.80410\n",
      "Epoch: 31900, loss: 21.80401\n",
      "Epoch: 32000, loss: 21.80392\n",
      "Epoch: 32100, loss: 21.80384\n",
      "Epoch: 32200, loss: 21.80375\n",
      "Epoch: 32300, loss: 21.80367\n",
      "Epoch: 32400, loss: 21.80359\n",
      "Epoch: 32500, loss: 21.80351\n",
      "Epoch: 32600, loss: 21.80343\n",
      "Epoch: 32700, loss: 21.80336\n",
      "Epoch: 32800, loss: 21.80328\n",
      "Epoch: 32900, loss: 21.80321\n",
      "Epoch: 33000, loss: 21.80314\n",
      "Epoch: 33100, loss: 21.80307\n",
      "Epoch: 33200, loss: 21.80301\n",
      "Epoch: 33300, loss: 21.80294\n",
      "Epoch: 33400, loss: 21.80288\n",
      "Epoch: 33500, loss: 21.80281\n",
      "Epoch: 33600, loss: 21.80276\n",
      "Epoch: 33700, loss: 21.80270\n",
      "Epoch: 33800, loss: 21.80264\n",
      "Epoch: 33900, loss: 21.80258\n",
      "Epoch: 34000, loss: 21.80253\n",
      "Epoch: 34100, loss: 21.80247\n",
      "Epoch: 34200, loss: 21.80242\n",
      "Epoch: 34300, loss: 21.80237\n",
      "Epoch: 34400, loss: 21.80232\n",
      "Epoch: 34500, loss: 21.80227\n",
      "Epoch: 34600, loss: 21.80223\n",
      "Epoch: 34700, loss: 21.80218\n",
      "Epoch: 34800, loss: 21.80213\n",
      "Epoch: 34900, loss: 21.80209\n",
      "Epoch: 35000, loss: 21.80205\n",
      "Epoch: 35100, loss: 21.80201\n",
      "Epoch: 35200, loss: 21.80197\n",
      "Epoch: 35300, loss: 21.80192\n",
      "Epoch: 35400, loss: 21.80189\n",
      "Epoch: 35500, loss: 21.80185\n",
      "Epoch: 35600, loss: 21.80181\n",
      "Epoch: 35700, loss: 21.80177\n",
      "Epoch: 35800, loss: 21.80174\n",
      "Epoch: 35900, loss: 21.80170\n",
      "Epoch: 36000, loss: 21.80167\n",
      "Epoch: 36100, loss: 21.80164\n",
      "Epoch: 36200, loss: 21.80161\n",
      "Epoch: 36300, loss: 21.80157\n",
      "Epoch: 36400, loss: 21.80154\n",
      "Epoch: 36500, loss: 21.80151\n",
      "Epoch: 36600, loss: 21.80148\n",
      "Epoch: 36700, loss: 21.80145\n",
      "Epoch: 36800, loss: 21.80143\n",
      "Epoch: 36900, loss: 21.80140\n",
      "Epoch: 37000, loss: 21.80137\n",
      "Epoch: 37100, loss: 21.80135\n",
      "Epoch: 37200, loss: 21.80132\n",
      "Epoch: 37300, loss: 21.80129\n",
      "Epoch: 37400, loss: 21.80127\n",
      "Epoch: 37500, loss: 21.80125\n",
      "Epoch: 37600, loss: 21.80122\n",
      "Epoch: 37700, loss: 21.80120\n",
      "Epoch: 37800, loss: 21.80118\n",
      "Epoch: 37900, loss: 21.80116\n",
      "Epoch: 38000, loss: 21.80114\n",
      "Epoch: 38100, loss: 21.80112\n",
      "Epoch: 38200, loss: 21.80110\n",
      "Epoch: 38300, loss: 21.80108\n",
      "Epoch: 38400, loss: 21.80106\n",
      "Epoch: 38500, loss: 21.80104\n",
      "Epoch: 38600, loss: 21.80102\n",
      "Epoch: 38700, loss: 21.80100\n",
      "Epoch: 38800, loss: 21.80099\n",
      "Epoch: 38900, loss: 21.80097\n",
      "Epoch: 39000, loss: 21.80095\n",
      "Epoch: 39100, loss: 21.80094\n",
      "Epoch: 39200, loss: 21.80092\n",
      "Epoch: 39300, loss: 21.80091\n",
      "Epoch: 39400, loss: 21.80089\n",
      "Epoch: 39500, loss: 21.80088\n",
      "Epoch: 39600, loss: 21.80087\n",
      "Epoch: 39700, loss: 21.80085\n",
      "Epoch: 39800, loss: 21.80083\n",
      "Epoch: 39900, loss: 21.80082\n",
      "Epoch: 40000, loss: 21.80081\n",
      "Epoch: 40100, loss: 21.80080\n",
      "Epoch: 40200, loss: 21.80079\n",
      "Epoch: 40300, loss: 21.80077\n",
      "Epoch: 40400, loss: 21.80076\n",
      "Epoch: 40500, loss: 21.80075\n",
      "Epoch: 40600, loss: 21.80074\n",
      "Epoch: 40700, loss: 21.80072\n",
      "Epoch: 40800, loss: 21.80072\n",
      "Epoch: 40900, loss: 21.80070\n",
      "Epoch: 41000, loss: 21.80070\n",
      "Epoch: 41100, loss: 21.80068\n",
      "Epoch: 41200, loss: 21.80068\n",
      "Epoch: 41300, loss: 21.80067\n",
      "Epoch: 41400, loss: 21.80065\n",
      "Epoch: 41500, loss: 21.80065\n",
      "Epoch: 41600, loss: 21.80064\n",
      "Epoch: 41700, loss: 21.80063\n",
      "Epoch: 41800, loss: 21.80062\n",
      "Epoch: 41900, loss: 21.80061\n",
      "Epoch: 42000, loss: 21.80061\n",
      "Epoch: 42100, loss: 21.80060\n",
      "Epoch: 42200, loss: 21.80059\n",
      "Epoch: 42300, loss: 21.80058\n",
      "Epoch: 42400, loss: 21.80058\n",
      "Epoch: 42500, loss: 21.80057\n",
      "Epoch: 42600, loss: 21.80056\n",
      "Epoch: 42700, loss: 21.80055\n",
      "Epoch: 42800, loss: 21.80055\n",
      "Epoch: 42900, loss: 21.80054\n",
      "Epoch: 43000, loss: 21.80054\n",
      "Epoch: 43100, loss: 21.80053\n",
      "Epoch: 43200, loss: 21.80052\n",
      "Epoch: 43300, loss: 21.80052\n",
      "Epoch: 43400, loss: 21.80051\n",
      "Epoch: 43500, loss: 21.80051\n",
      "Epoch: 43600, loss: 21.80050\n",
      "Epoch: 43700, loss: 21.80050\n",
      "Epoch: 43800, loss: 21.80049\n",
      "Epoch: 43900, loss: 21.80048\n",
      "Epoch: 44000, loss: 21.80048\n",
      "Epoch: 44100, loss: 21.80048\n",
      "Epoch: 44200, loss: 21.80047\n",
      "Epoch: 44300, loss: 21.80046\n",
      "Epoch: 44400, loss: 21.80046\n",
      "Epoch: 44500, loss: 21.80046\n",
      "Epoch: 44600, loss: 21.80045\n",
      "Epoch: 44700, loss: 21.80045\n",
      "Epoch: 44800, loss: 21.80045\n",
      "Epoch: 44900, loss: 21.80044\n",
      "Epoch: 45000, loss: 21.80044\n",
      "Epoch: 45100, loss: 21.80043\n",
      "Epoch: 45200, loss: 21.80043\n",
      "Epoch: 45300, loss: 21.80043\n",
      "Epoch: 45400, loss: 21.80042\n",
      "Epoch: 45500, loss: 21.80042\n",
      "Epoch: 45600, loss: 21.80042\n",
      "Epoch: 45700, loss: 21.80041\n",
      "Epoch: 45800, loss: 21.80041\n",
      "Epoch: 45900, loss: 21.80041\n",
      "Epoch: 46000, loss: 21.80040\n",
      "Epoch: 46100, loss: 21.80040\n",
      "Epoch: 46200, loss: 21.80040\n",
      "Epoch: 46300, loss: 21.80039\n",
      "Epoch: 46400, loss: 21.80039\n",
      "Epoch: 46500, loss: 21.80039\n",
      "Epoch: 46600, loss: 21.80039\n",
      "Epoch: 46700, loss: 21.80038\n",
      "Epoch: 46800, loss: 21.80038\n",
      "Epoch: 46900, loss: 21.80038\n",
      "Epoch: 47000, loss: 21.80038\n",
      "Epoch: 47100, loss: 21.80037\n",
      "Epoch: 47200, loss: 21.80037\n",
      "Epoch: 47300, loss: 21.80037\n",
      "Epoch: 47400, loss: 21.80037\n",
      "Epoch: 47500, loss: 21.80036\n",
      "Epoch: 47600, loss: 21.80036\n",
      "Epoch: 47700, loss: 21.80036\n",
      "Epoch: 47800, loss: 21.80036\n",
      "Epoch: 47900, loss: 21.80035\n",
      "Epoch: 48000, loss: 21.80035\n",
      "Epoch: 48100, loss: 21.80035\n",
      "Epoch: 48200, loss: 21.80035\n",
      "Epoch: 48300, loss: 21.80035\n",
      "Epoch: 48400, loss: 21.80035\n",
      "Epoch: 48500, loss: 21.80034\n",
      "Epoch: 48600, loss: 21.80034\n",
      "Epoch: 48700, loss: 21.80034\n",
      "Epoch: 48800, loss: 21.80034\n",
      "Epoch: 48900, loss: 21.80034\n",
      "Epoch: 49000, loss: 21.80034\n",
      "Epoch: 49100, loss: 21.80034\n",
      "Epoch: 49200, loss: 21.80033\n",
      "Epoch: 49300, loss: 21.80033\n",
      "Epoch: 49400, loss: 21.80033\n",
      "Epoch: 49500, loss: 21.80033\n",
      "Epoch: 49600, loss: 21.80033\n",
      "Epoch: 49700, loss: 21.80033\n",
      "Epoch: 49800, loss: 21.80033\n",
      "Epoch: 49900, loss: 21.80033\n"
     ]
    }
   ],
   "source": [
    "for epoch in range(num_epochs):\n",
    "    optimizer.zero_grad()\n",
    "    outputs = net(inputs)\n",
    "    loss = criterion(outputs, labels1) / 2.0\n",
    "\n",
    "    loss.backward()\n",
    "\n",
    "    optimizer.step()\n",
    "\n",
    "    if epoch % 100 == 0:\n",
    "        history = np.vstack((history, np.array([epoch, loss.item()])))\n",
    "        print(f'Epoch: {epoch}, loss: {loss.item():.5f}')"
   ]
  },
  {
   "cell_type": "code",
   "execution_count": 37,
   "metadata": {},
   "outputs": [
    {
     "name": "stdout",
     "output_type": "stream",
     "text": [
      "損失初期値: 154.22493\n",
      "損失最終値: 21.80033\n"
     ]
    }
   ],
   "source": [
    "print(f'損失初期値: {history[0, 1]:.5f}')\n",
    "print(f'損失最終値: {history[-1, 1]:.5f}')"
   ]
  },
  {
   "cell_type": "code",
   "execution_count": 38,
   "metadata": {},
   "outputs": [
    {
     "data": {
      "image/png": "[encoded data removed]",
      "text/plain": [
       "<Figure size 432x288 with 1 Axes>"
      ]
     },
     "metadata": {
      "needs_background": "light"
     },
     "output_type": "display_data"
    }
   ],
   "source": [
    "plt.plot(history[1:, 0], history[1:, 1], 'b')\n",
    "plt.xlabel('繰り返し回数')\n",
    "plt.ylabel('損失')\n",
    "plt.title('学習曲線(損失)')\n",
    "plt.grid()\n",
    "plt.show()"
   ]
  },
  {
   "cell_type": "code",
   "execution_count": 39,
   "metadata": {},
   "outputs": [
    {
     "name": "stdout",
     "output_type": "stream",
     "text": [
      "[[-2.2188644]\n",
      " [45.212074 ]]\n"
     ]
    }
   ],
   "source": [
    "xse = np.array((x.min(), x.max())).reshape(-1,1)\n",
    "Xse = torch.tensor(xse).float()\n",
    "\n",
    "with torch.no_grad():\n",
    "  Yse = net(Xse)\n",
    "\n",
    "print(Yse.numpy())"
   ]
  },
  {
   "cell_type": "code",
   "execution_count": 40,
   "metadata": {},
   "outputs": [
    {
     "data": {
      "image/png": "[encoded data removed]",
      "text/plain": [
       "<Figure size 432x288 with 1 Axes>"
      ]
     },
     "metadata": {
      "needs_background": "light"
     },
     "output_type": "display_data"
    }
   ],
   "source": [
    "plt.scatter(x, yt, s=10, c='b')\n",
    "plt.xlabel('部屋数')\n",
    "plt.ylabel('価格')\n",
    "plt.plot(Xse.data, Yse.data, c='k')\n",
    "plt.title('散布図と回帰直線')\n",
    "plt.grid()\n",
    "plt.show()"
   ]
  },
  {
   "cell_type": "code",
   "execution_count": 41,
   "metadata": {},
   "outputs": [
    {
     "name": "stdout",
     "output_type": "stream",
     "text": [
      "(506, 2)\n",
      "[[6.575 4.98 ]\n",
      " [6.421 9.14 ]\n",
      " [7.185 4.03 ]\n",
      " [6.998 2.94 ]\n",
      " [7.147 5.33 ]]\n"
     ]
    }
   ],
   "source": [
    "x_add = x_org[:, feature_names == 'LSTAT']\n",
    "x2 = np.hstack((x, x_add))\n",
    "\n",
    "print(x2.shape)\n",
    "print(x2[:5, :])"
   ]
  },
  {
   "cell_type": "code",
   "execution_count": 49,
   "metadata": {},
   "outputs": [
    {
     "name": "stdout",
     "output_type": "stream",
     "text": [
      "2\n"
     ]
    }
   ],
   "source": [
    "n_input = x2.shape[1]\n",
    "print(n_input)\n",
    "\n",
    "net = Net(n_input, n_output).to('cpu')"
   ]
  },
  {
   "cell_type": "code",
   "execution_count": 43,
   "metadata": {},
   "outputs": [
    {
     "name": "stdout",
     "output_type": "stream",
     "text": [
      "変数名: l1.weight\n",
      "変数値: tensor([[1., 1.]])\n",
      "変数名: l1.bias\n",
      "変数値: tensor([1.])\n"
     ]
    }
   ],
   "source": [
    "for parameter in net.named_parameters():\n",
    "    print(f'変数名: {parameter[0]}')\n",
    "    print(f'変数値: {parameter[1].data}')"
   ]
  },
  {
   "cell_type": "code",
   "execution_count": 44,
   "metadata": {},
   "outputs": [
    {
     "name": "stdout",
     "output_type": "stream",
     "text": [
      "Net(\n",
      "  (l1): Linear(in_features=2, out_features=1, bias=True)\n",
      ")\n"
     ]
    }
   ],
   "source": [
    "print(net)"
   ]
  },
  {
   "cell_type": "code",
   "execution_count": 45,
   "metadata": {},
   "outputs": [
    {
     "data": {
      "text/plain": [
       "==========================================================================================\n",
       "Layer (type:depth-idx)                   Output Shape              Param #\n",
       "==========================================================================================\n",
       "Net                                      --                        --\n",
       "├─Linear: 1-1                            [1]                       3\n",
       "==========================================================================================\n",
       "Total params: 3\n",
       "Trainable params: 3\n",
       "Non-trainable params: 0\n",
       "Total mult-adds (M): 0.00\n",
       "==========================================================================================\n",
       "Input size (MB): 0.00\n",
       "Forward/backward pass size (MB): 0.00\n",
       "Params size (MB): 0.00\n",
       "Estimated Total Size (MB): 0.00\n",
       "=========================================================================================="
      ]
     },
     "execution_count": 45,
     "metadata": {},
     "output_type": "execute_result"
    }
   ],
   "source": [
    "summary(net, (2,))"
   ]
  },
  {
   "cell_type": "code",
   "execution_count": 46,
   "metadata": {},
   "outputs": [],
   "source": [
    "inputs = torch.tensor(x2).float()"
   ]
  },
  {
   "cell_type": "code",
   "execution_count": 52,
   "metadata": {},
   "outputs": [],
   "source": [
    "lr = 0.01\n",
    "net = Net(n_input, n_output).to('cpu')\n",
    "criterion = nn.MSELoss()\n",
    "optimizer = optim.SGD(net.parameters(), lr=lr)\n",
    "num_epochs = 50000\n",
    "history = np.zeros((0, 2))"
   ]
  },
  {
   "cell_type": "code",
   "execution_count": 53,
   "metadata": {},
   "outputs": [
    {
     "name": "stdout",
     "output_type": "stream",
     "text": [
      "Epoch: 0, loss: 112.06398\n",
      "Epoch: 100, loss: 3753837073642659568666615480320.00000\n",
      "Epoch: 200, loss: inf\n",
      "Epoch: 300, loss: nan\n",
      "Epoch: 400, loss: nan\n",
      "Epoch: 500, loss: nan\n",
      "Epoch: 600, loss: nan\n",
      "Epoch: 700, loss: nan\n",
      "Epoch: 800, loss: nan\n",
      "Epoch: 900, loss: nan\n",
      "Epoch: 1000, loss: nan\n",
      "Epoch: 1100, loss: nan\n",
      "Epoch: 1200, loss: nan\n",
      "Epoch: 1300, loss: nan\n",
      "Epoch: 1400, loss: nan\n",
      "Epoch: 1500, loss: nan\n",
      "Epoch: 1600, loss: nan\n",
      "Epoch: 1700, loss: nan\n",
      "Epoch: 1800, loss: nan\n",
      "Epoch: 1900, loss: nan\n",
      "Epoch: 2000, loss: nan\n",
      "Epoch: 2100, loss: nan\n",
      "Epoch: 2200, loss: nan\n",
      "Epoch: 2300, loss: nan\n",
      "Epoch: 2400, loss: nan\n",
      "Epoch: 2500, loss: nan\n",
      "Epoch: 2600, loss: nan\n",
      "Epoch: 2700, loss: nan\n",
      "Epoch: 2800, loss: nan\n",
      "Epoch: 2900, loss: nan\n",
      "Epoch: 3000, loss: nan\n",
      "Epoch: 3100, loss: nan\n",
      "Epoch: 3200, loss: nan\n",
      "Epoch: 3300, loss: nan\n",
      "Epoch: 3400, loss: nan\n",
      "Epoch: 3500, loss: nan\n",
      "Epoch: 3600, loss: nan\n",
      "Epoch: 3700, loss: nan\n",
      "Epoch: 3800, loss: nan\n",
      "Epoch: 3900, loss: nan\n",
      "Epoch: 4000, loss: nan\n",
      "Epoch: 4100, loss: nan\n",
      "Epoch: 4200, loss: nan\n",
      "Epoch: 4300, loss: nan\n",
      "Epoch: 4400, loss: nan\n",
      "Epoch: 4500, loss: nan\n",
      "Epoch: 4600, loss: nan\n",
      "Epoch: 4700, loss: nan\n",
      "Epoch: 4800, loss: nan\n",
      "Epoch: 4900, loss: nan\n",
      "Epoch: 5000, loss: nan\n",
      "Epoch: 5100, loss: nan\n",
      "Epoch: 5200, loss: nan\n",
      "Epoch: 5300, loss: nan\n",
      "Epoch: 5400, loss: nan\n",
      "Epoch: 5500, loss: nan\n",
      "Epoch: 5600, loss: nan\n",
      "Epoch: 5700, loss: nan\n",
      "Epoch: 5800, loss: nan\n",
      "Epoch: 5900, loss: nan\n",
      "Epoch: 6000, loss: nan\n",
      "Epoch: 6100, loss: nan\n",
      "Epoch: 6200, loss: nan\n",
      "Epoch: 6300, loss: nan\n",
      "Epoch: 6400, loss: nan\n",
      "Epoch: 6500, loss: nan\n",
      "Epoch: 6600, loss: nan\n",
      "Epoch: 6700, loss: nan\n",
      "Epoch: 6800, loss: nan\n",
      "Epoch: 6900, loss: nan\n",
      "Epoch: 7000, loss: nan\n",
      "Epoch: 7100, loss: nan\n",
      "Epoch: 7200, loss: nan\n",
      "Epoch: 7300, loss: nan\n",
      "Epoch: 7400, loss: nan\n",
      "Epoch: 7500, loss: nan\n",
      "Epoch: 7600, loss: nan\n",
      "Epoch: 7700, loss: nan\n",
      "Epoch: 7800, loss: nan\n",
      "Epoch: 7900, loss: nan\n",
      "Epoch: 8000, loss: nan\n",
      "Epoch: 8100, loss: nan\n",
      "Epoch: 8200, loss: nan\n",
      "Epoch: 8300, loss: nan\n",
      "Epoch: 8400, loss: nan\n",
      "Epoch: 8500, loss: nan\n",
      "Epoch: 8600, loss: nan\n",
      "Epoch: 8700, loss: nan\n",
      "Epoch: 8800, loss: nan\n",
      "Epoch: 8900, loss: nan\n",
      "Epoch: 9000, loss: nan\n",
      "Epoch: 9100, loss: nan\n",
      "Epoch: 9200, loss: nan\n",
      "Epoch: 9300, loss: nan\n",
      "Epoch: 9400, loss: nan\n",
      "Epoch: 9500, loss: nan\n",
      "Epoch: 9600, loss: nan\n",
      "Epoch: 9700, loss: nan\n",
      "Epoch: 9800, loss: nan\n",
      "Epoch: 9900, loss: nan\n",
      "Epoch: 10000, loss: nan\n",
      "Epoch: 10100, loss: nan\n",
      "Epoch: 10200, loss: nan\n",
      "Epoch: 10300, loss: nan\n",
      "Epoch: 10400, loss: nan\n",
      "Epoch: 10500, loss: nan\n",
      "Epoch: 10600, loss: nan\n",
      "Epoch: 10700, loss: nan\n",
      "Epoch: 10800, loss: nan\n",
      "Epoch: 10900, loss: nan\n",
      "Epoch: 11000, loss: nan\n",
      "Epoch: 11100, loss: nan\n",
      "Epoch: 11200, loss: nan\n",
      "Epoch: 11300, loss: nan\n",
      "Epoch: 11400, loss: nan\n",
      "Epoch: 11500, loss: nan\n",
      "Epoch: 11600, loss: nan\n",
      "Epoch: 11700, loss: nan\n",
      "Epoch: 11800, loss: nan\n",
      "Epoch: 11900, loss: nan\n",
      "Epoch: 12000, loss: nan\n",
      "Epoch: 12100, loss: nan\n",
      "Epoch: 12200, loss: nan\n",
      "Epoch: 12300, loss: nan\n",
      "Epoch: 12400, loss: nan\n",
      "Epoch: 12500, loss: nan\n",
      "Epoch: 12600, loss: nan\n",
      "Epoch: 12700, loss: nan\n",
      "Epoch: 12800, loss: nan\n",
      "Epoch: 12900, loss: nan\n",
      "Epoch: 13000, loss: nan\n",
      "Epoch: 13100, loss: nan\n",
      "Epoch: 13200, loss: nan\n",
      "Epoch: 13300, loss: nan\n",
      "Epoch: 13400, loss: nan\n",
      "Epoch: 13500, loss: nan\n",
      "Epoch: 13600, loss: nan\n",
      "Epoch: 13700, loss: nan\n",
      "Epoch: 13800, loss: nan\n",
      "Epoch: 13900, loss: nan\n",
      "Epoch: 14000, loss: nan\n",
      "Epoch: 14100, loss: nan\n",
      "Epoch: 14200, loss: nan\n",
      "Epoch: 14300, loss: nan\n",
      "Epoch: 14400, loss: nan\n",
      "Epoch: 14500, loss: nan\n",
      "Epoch: 14600, loss: nan\n",
      "Epoch: 14700, loss: nan\n",
      "Epoch: 14800, loss: nan\n",
      "Epoch: 14900, loss: nan\n",
      "Epoch: 15000, loss: nan\n",
      "Epoch: 15100, loss: nan\n",
      "Epoch: 15200, loss: nan\n",
      "Epoch: 15300, loss: nan\n",
      "Epoch: 15400, loss: nan\n",
      "Epoch: 15500, loss: nan\n",
      "Epoch: 15600, loss: nan\n",
      "Epoch: 15700, loss: nan\n",
      "Epoch: 15800, loss: nan\n",
      "Epoch: 15900, loss: nan\n",
      "Epoch: 16000, loss: nan\n",
      "Epoch: 16100, loss: nan\n",
      "Epoch: 16200, loss: nan\n",
      "Epoch: 16300, loss: nan\n",
      "Epoch: 16400, loss: nan\n",
      "Epoch: 16500, loss: nan\n",
      "Epoch: 16600, loss: nan\n",
      "Epoch: 16700, loss: nan\n",
      "Epoch: 16800, loss: nan\n",
      "Epoch: 16900, loss: nan\n",
      "Epoch: 17000, loss: nan\n",
      "Epoch: 17100, loss: nan\n",
      "Epoch: 17200, loss: nan\n",
      "Epoch: 17300, loss: nan\n",
      "Epoch: 17400, loss: nan\n",
      "Epoch: 17500, loss: nan\n",
      "Epoch: 17600, loss: nan\n",
      "Epoch: 17700, loss: nan\n",
      "Epoch: 17800, loss: nan\n",
      "Epoch: 17900, loss: nan\n",
      "Epoch: 18000, loss: nan\n",
      "Epoch: 18100, loss: nan\n",
      "Epoch: 18200, loss: nan\n",
      "Epoch: 18300, loss: nan\n",
      "Epoch: 18400, loss: nan\n",
      "Epoch: 18500, loss: nan\n",
      "Epoch: 18600, loss: nan\n",
      "Epoch: 18700, loss: nan\n",
      "Epoch: 18800, loss: nan\n",
      "Epoch: 18900, loss: nan\n",
      "Epoch: 19000, loss: nan\n",
      "Epoch: 19100, loss: nan\n",
      "Epoch: 19200, loss: nan\n",
      "Epoch: 19300, loss: nan\n",
      "Epoch: 19400, loss: nan\n",
      "Epoch: 19500, loss: nan\n",
      "Epoch: 19600, loss: nan\n",
      "Epoch: 19700, loss: nan\n",
      "Epoch: 19800, loss: nan\n",
      "Epoch: 19900, loss: nan\n",
      "Epoch: 20000, loss: nan\n",
      "Epoch: 20100, loss: nan\n",
      "Epoch: 20200, loss: nan\n",
      "Epoch: 20300, loss: nan\n",
      "Epoch: 20400, loss: nan\n",
      "Epoch: 20500, loss: nan\n",
      "Epoch: 20600, loss: nan\n",
      "Epoch: 20700, loss: nan\n",
      "Epoch: 20800, loss: nan\n",
      "Epoch: 20900, loss: nan\n",
      "Epoch: 21000, loss: nan\n",
      "Epoch: 21100, loss: nan\n",
      "Epoch: 21200, loss: nan\n",
      "Epoch: 21300, loss: nan\n",
      "Epoch: 21400, loss: nan\n",
      "Epoch: 21500, loss: nan\n",
      "Epoch: 21600, loss: nan\n",
      "Epoch: 21700, loss: nan\n",
      "Epoch: 21800, loss: nan\n",
      "Epoch: 21900, loss: nan\n",
      "Epoch: 22000, loss: nan\n",
      "Epoch: 22100, loss: nan\n",
      "Epoch: 22200, loss: nan\n",
      "Epoch: 22300, loss: nan\n",
      "Epoch: 22400, loss: nan\n",
      "Epoch: 22500, loss: nan\n",
      "Epoch: 22600, loss: nan\n",
      "Epoch: 22700, loss: nan\n",
      "Epoch: 22800, loss: nan\n",
      "Epoch: 22900, loss: nan\n",
      "Epoch: 23000, loss: nan\n",
      "Epoch: 23100, loss: nan\n",
      "Epoch: 23200, loss: nan\n",
      "Epoch: 23300, loss: nan\n",
      "Epoch: 23400, loss: nan\n",
      "Epoch: 23500, loss: nan\n",
      "Epoch: 23600, loss: nan\n",
      "Epoch: 23700, loss: nan\n",
      "Epoch: 23800, loss: nan\n",
      "Epoch: 23900, loss: nan\n",
      "Epoch: 24000, loss: nan\n",
      "Epoch: 24100, loss: nan\n",
      "Epoch: 24200, loss: nan\n",
      "Epoch: 24300, loss: nan\n",
      "Epoch: 24400, loss: nan\n",
      "Epoch: 24500, loss: nan\n",
      "Epoch: 24600, loss: nan\n",
      "Epoch: 24700, loss: nan\n",
      "Epoch: 24800, loss: nan\n",
      "Epoch: 24900, loss: nan\n",
      "Epoch: 25000, loss: nan\n",
      "Epoch: 25100, loss: nan\n",
      "Epoch: 25200, loss: nan\n",
      "Epoch: 25300, loss: nan\n",
      "Epoch: 25400, loss: nan\n",
      "Epoch: 25500, loss: nan\n",
      "Epoch: 25600, loss: nan\n",
      "Epoch: 25700, loss: nan\n",
      "Epoch: 25800, loss: nan\n",
      "Epoch: 25900, loss: nan\n",
      "Epoch: 26000, loss: nan\n",
      "Epoch: 26100, loss: nan\n",
      "Epoch: 26200, loss: nan\n",
      "Epoch: 26300, loss: nan\n",
      "Epoch: 26400, loss: nan\n",
      "Epoch: 26500, loss: nan\n",
      "Epoch: 26600, loss: nan\n",
      "Epoch: 26700, loss: nan\n",
      "Epoch: 26800, loss: nan\n",
      "Epoch: 26900, loss: nan\n",
      "Epoch: 27000, loss: nan\n",
      "Epoch: 27100, loss: nan\n",
      "Epoch: 27200, loss: nan\n",
      "Epoch: 27300, loss: nan\n",
      "Epoch: 27400, loss: nan\n",
      "Epoch: 27500, loss: nan\n",
      "Epoch: 27600, loss: nan\n",
      "Epoch: 27700, loss: nan\n",
      "Epoch: 27800, loss: nan\n",
      "Epoch: 27900, loss: nan\n",
      "Epoch: 28000, loss: nan\n",
      "Epoch: 28100, loss: nan\n",
      "Epoch: 28200, loss: nan\n",
      "Epoch: 28300, loss: nan\n",
      "Epoch: 28400, loss: nan\n",
      "Epoch: 28500, loss: nan\n",
      "Epoch: 28600, loss: nan\n",
      "Epoch: 28700, loss: nan\n",
      "Epoch: 28800, loss: nan\n",
      "Epoch: 28900, loss: nan\n",
      "Epoch: 29000, loss: nan\n",
      "Epoch: 29100, loss: nan\n",
      "Epoch: 29200, loss: nan\n",
      "Epoch: 29300, loss: nan\n",
      "Epoch: 29400, loss: nan\n",
      "Epoch: 29500, loss: nan\n",
      "Epoch: 29600, loss: nan\n",
      "Epoch: 29700, loss: nan\n",
      "Epoch: 29800, loss: nan\n",
      "Epoch: 29900, loss: nan\n",
      "Epoch: 30000, loss: nan\n",
      "Epoch: 30100, loss: nan\n",
      "Epoch: 30200, loss: nan\n",
      "Epoch: 30300, loss: nan\n",
      "Epoch: 30400, loss: nan\n",
      "Epoch: 30500, loss: nan\n",
      "Epoch: 30600, loss: nan\n",
      "Epoch: 30700, loss: nan\n",
      "Epoch: 30800, loss: nan\n",
      "Epoch: 30900, loss: nan\n",
      "Epoch: 31000, loss: nan\n",
      "Epoch: 31100, loss: nan\n",
      "Epoch: 31200, loss: nan\n",
      "Epoch: 31300, loss: nan\n",
      "Epoch: 31400, loss: nan\n",
      "Epoch: 31500, loss: nan\n",
      "Epoch: 31600, loss: nan\n",
      "Epoch: 31700, loss: nan\n",
      "Epoch: 31800, loss: nan\n",
      "Epoch: 31900, loss: nan\n",
      "Epoch: 32000, loss: nan\n",
      "Epoch: 32100, loss: nan\n",
      "Epoch: 32200, loss: nan\n",
      "Epoch: 32300, loss: nan\n",
      "Epoch: 32400, loss: nan\n",
      "Epoch: 32500, loss: nan\n",
      "Epoch: 32600, loss: nan\n",
      "Epoch: 32700, loss: nan\n",
      "Epoch: 32800, loss: nan\n",
      "Epoch: 32900, loss: nan\n",
      "Epoch: 33000, loss: nan\n",
      "Epoch: 33100, loss: nan\n",
      "Epoch: 33200, loss: nan\n",
      "Epoch: 33300, loss: nan\n",
      "Epoch: 33400, loss: nan\n",
      "Epoch: 33500, loss: nan\n",
      "Epoch: 33600, loss: nan\n",
      "Epoch: 33700, loss: nan\n",
      "Epoch: 33800, loss: nan\n",
      "Epoch: 33900, loss: nan\n",
      "Epoch: 34000, loss: nan\n",
      "Epoch: 34100, loss: nan\n",
      "Epoch: 34200, loss: nan\n",
      "Epoch: 34300, loss: nan\n",
      "Epoch: 34400, loss: nan\n",
      "Epoch: 34500, loss: nan\n",
      "Epoch: 34600, loss: nan\n",
      "Epoch: 34700, loss: nan\n",
      "Epoch: 34800, loss: nan\n",
      "Epoch: 34900, loss: nan\n",
      "Epoch: 35000, loss: nan\n",
      "Epoch: 35100, loss: nan\n",
      "Epoch: 35200, loss: nan\n",
      "Epoch: 35300, loss: nan\n",
      "Epoch: 35400, loss: nan\n",
      "Epoch: 35500, loss: nan\n",
      "Epoch: 35600, loss: nan\n",
      "Epoch: 35700, loss: nan\n",
      "Epoch: 35800, loss: nan\n",
      "Epoch: 35900, loss: nan\n",
      "Epoch: 36000, loss: nan\n",
      "Epoch: 36100, loss: nan\n",
      "Epoch: 36200, loss: nan\n",
      "Epoch: 36300, loss: nan\n",
      "Epoch: 36400, loss: nan\n",
      "Epoch: 36500, loss: nan\n",
      "Epoch: 36600, loss: nan\n",
      "Epoch: 36700, loss: nan\n",
      "Epoch: 36800, loss: nan\n",
      "Epoch: 36900, loss: nan\n",
      "Epoch: 37000, loss: nan\n",
      "Epoch: 37100, loss: nan\n",
      "Epoch: 37200, loss: nan\n",
      "Epoch: 37300, loss: nan\n",
      "Epoch: 37400, loss: nan\n",
      "Epoch: 37500, loss: nan\n",
      "Epoch: 37600, loss: nan\n",
      "Epoch: 37700, loss: nan\n",
      "Epoch: 37800, loss: nan\n",
      "Epoch: 37900, loss: nan\n",
      "Epoch: 38000, loss: nan\n",
      "Epoch: 38100, loss: nan\n",
      "Epoch: 38200, loss: nan\n",
      "Epoch: 38300, loss: nan\n",
      "Epoch: 38400, loss: nan\n",
      "Epoch: 38500, loss: nan\n",
      "Epoch: 38600, loss: nan\n",
      "Epoch: 38700, loss: nan\n",
      "Epoch: 38800, loss: nan\n",
      "Epoch: 38900, loss: nan\n",
      "Epoch: 39000, loss: nan\n",
      "Epoch: 39100, loss: nan\n",
      "Epoch: 39200, loss: nan\n",
      "Epoch: 39300, loss: nan\n",
      "Epoch: 39400, loss: nan\n",
      "Epoch: 39500, loss: nan\n",
      "Epoch: 39600, loss: nan\n",
      "Epoch: 39700, loss: nan\n",
      "Epoch: 39800, loss: nan\n",
      "Epoch: 39900, loss: nan\n",
      "Epoch: 40000, loss: nan\n",
      "Epoch: 40100, loss: nan\n",
      "Epoch: 40200, loss: nan\n",
      "Epoch: 40300, loss: nan\n",
      "Epoch: 40400, loss: nan\n",
      "Epoch: 40500, loss: nan\n",
      "Epoch: 40600, loss: nan\n",
      "Epoch: 40700, loss: nan\n",
      "Epoch: 40800, loss: nan\n",
      "Epoch: 40900, loss: nan\n",
      "Epoch: 41000, loss: nan\n",
      "Epoch: 41100, loss: nan\n",
      "Epoch: 41200, loss: nan\n",
      "Epoch: 41300, loss: nan\n",
      "Epoch: 41400, loss: nan\n",
      "Epoch: 41500, loss: nan\n",
      "Epoch: 41600, loss: nan\n",
      "Epoch: 41700, loss: nan\n",
      "Epoch: 41800, loss: nan\n",
      "Epoch: 41900, loss: nan\n",
      "Epoch: 42000, loss: nan\n",
      "Epoch: 42100, loss: nan\n",
      "Epoch: 42200, loss: nan\n",
      "Epoch: 42300, loss: nan\n",
      "Epoch: 42400, loss: nan\n",
      "Epoch: 42500, loss: nan\n",
      "Epoch: 42600, loss: nan\n",
      "Epoch: 42700, loss: nan\n",
      "Epoch: 42800, loss: nan\n",
      "Epoch: 42900, loss: nan\n",
      "Epoch: 43000, loss: nan\n",
      "Epoch: 43100, loss: nan\n",
      "Epoch: 43200, loss: nan\n",
      "Epoch: 43300, loss: nan\n",
      "Epoch: 43400, loss: nan\n",
      "Epoch: 43500, loss: nan\n",
      "Epoch: 43600, loss: nan\n",
      "Epoch: 43700, loss: nan\n",
      "Epoch: 43800, loss: nan\n",
      "Epoch: 43900, loss: nan\n",
      "Epoch: 44000, loss: nan\n",
      "Epoch: 44100, loss: nan\n",
      "Epoch: 44200, loss: nan\n",
      "Epoch: 44300, loss: nan\n",
      "Epoch: 44400, loss: nan\n",
      "Epoch: 44500, loss: nan\n",
      "Epoch: 44600, loss: nan\n",
      "Epoch: 44700, loss: nan\n",
      "Epoch: 44800, loss: nan\n",
      "Epoch: 44900, loss: nan\n",
      "Epoch: 45000, loss: nan\n",
      "Epoch: 45100, loss: nan\n",
      "Epoch: 45200, loss: nan\n",
      "Epoch: 45300, loss: nan\n",
      "Epoch: 45400, loss: nan\n",
      "Epoch: 45500, loss: nan\n",
      "Epoch: 45600, loss: nan\n",
      "Epoch: 45700, loss: nan\n",
      "Epoch: 45800, loss: nan\n",
      "Epoch: 45900, loss: nan\n",
      "Epoch: 46000, loss: nan\n",
      "Epoch: 46100, loss: nan\n",
      "Epoch: 46200, loss: nan\n",
      "Epoch: 46300, loss: nan\n",
      "Epoch: 46400, loss: nan\n",
      "Epoch: 46500, loss: nan\n",
      "Epoch: 46600, loss: nan\n",
      "Epoch: 46700, loss: nan\n",
      "Epoch: 46800, loss: nan\n",
      "Epoch: 46900, loss: nan\n",
      "Epoch: 47000, loss: nan\n",
      "Epoch: 47100, loss: nan\n",
      "Epoch: 47200, loss: nan\n",
      "Epoch: 47300, loss: nan\n",
      "Epoch: 47400, loss: nan\n",
      "Epoch: 47500, loss: nan\n",
      "Epoch: 47600, loss: nan\n",
      "Epoch: 47700, loss: nan\n",
      "Epoch: 47800, loss: nan\n",
      "Epoch: 47900, loss: nan\n",
      "Epoch: 48000, loss: nan\n",
      "Epoch: 48100, loss: nan\n",
      "Epoch: 48200, loss: nan\n",
      "Epoch: 48300, loss: nan\n",
      "Epoch: 48400, loss: nan\n",
      "Epoch: 48500, loss: nan\n",
      "Epoch: 48600, loss: nan\n",
      "Epoch: 48700, loss: nan\n",
      "Epoch: 48800, loss: nan\n",
      "Epoch: 48900, loss: nan\n",
      "Epoch: 49000, loss: nan\n",
      "Epoch: 49100, loss: nan\n",
      "Epoch: 49200, loss: nan\n",
      "Epoch: 49300, loss: nan\n",
      "Epoch: 49400, loss: nan\n",
      "Epoch: 49500, loss: nan\n",
      "Epoch: 49600, loss: nan\n",
      "Epoch: 49700, loss: nan\n",
      "Epoch: 49800, loss: nan\n",
      "Epoch: 49900, loss: nan\n"
     ]
    }
   ],
   "source": [
    "for epoch in range(num_epochs):\n",
    "    optimizer.zero_grad()\n",
    "    outputs = net(inputs)\n",
    "    loss = criterion(outputs, labels1) / 2.0\n",
    "\n",
    "    loss.backward()\n",
    "\n",
    "    optimizer.step()\n",
    "\n",
    "    if epoch % 100 == 0:\n",
    "        history = np.vstack((history, np.array([epoch, loss.item()])))\n",
    "        print(f'Epoch: {epoch}, loss: {loss.item():.5f}')"
   ]
  },
  {
   "cell_type": "code",
   "execution_count": 55,
   "metadata": {},
   "outputs": [],
   "source": [
    "num_epochs = 2000\n",
    "lr = 0.001\n",
    "net = Net(n_input, n_output).to('cpu')\n",
    "criterion = nn.MSELoss()\n",
    "optimizer = optim.SGD(net.parameters(), lr=lr)\n",
    "history = np.zeros((0, 2))"
   ]
  },
  {
   "cell_type": "code",
   "execution_count": 56,
   "metadata": {},
   "outputs": [
    {
     "name": "stdout",
     "output_type": "stream",
     "text": [
      "Epoch: 0, loss: 112.06398\n",
      "Epoch: 100, loss: 25.35892\n",
      "Epoch: 200, loss: 16.39105\n",
      "Epoch: 300, loss: 15.40301\n",
      "Epoch: 400, loss: 15.29414\n",
      "Epoch: 500, loss: 15.28211\n",
      "Epoch: 600, loss: 15.28076\n",
      "Epoch: 700, loss: 15.28059\n",
      "Epoch: 800, loss: 15.28054\n",
      "Epoch: 900, loss: 15.28051\n",
      "Epoch: 1000, loss: 15.28048\n",
      "Epoch: 1100, loss: 15.28046\n",
      "Epoch: 1200, loss: 15.28043\n",
      "Epoch: 1300, loss: 15.28040\n",
      "Epoch: 1400, loss: 15.28037\n",
      "Epoch: 1500, loss: 15.28034\n",
      "Epoch: 1600, loss: 15.28031\n",
      "Epoch: 1700, loss: 15.28028\n",
      "Epoch: 1800, loss: 15.28026\n",
      "Epoch: 1900, loss: 15.28023\n"
     ]
    }
   ],
   "source": [
    "for epoch in range(num_epochs):\n",
    "    optimizer.zero_grad()\n",
    "    outputs = net(inputs)\n",
    "    loss = criterion(outputs, labels1) / 2.0\n",
    "\n",
    "    loss.backward()\n",
    "\n",
    "    optimizer.step()\n",
    "\n",
    "    if epoch % 100 == 0:\n",
    "        history = np.vstack((history, np.array([epoch, loss.item()])))\n",
    "        print(f'Epoch: {epoch}, loss: {loss.item():.5f}')"
   ]
  },
  {
   "cell_type": "code",
   "execution_count": 57,
   "metadata": {},
   "outputs": [
    {
     "name": "stdout",
     "output_type": "stream",
     "text": [
      "損失初期値: 112.06398\n",
      "損失最終値: 15.28023\n"
     ]
    }
   ],
   "source": [
    "print(f'損失初期値: {history[0, 1]:.5f}')\n",
    "print(f'損失最終値: {history[-1, 1]:.5f}')"
   ]
  },
  {
   "cell_type": "code",
   "execution_count": 58,
   "metadata": {},
   "outputs": [
    {
     "data": {
      "image/png": "[encoded data removed]",
      "text/plain": [
       "<Figure size 432x288 with 1 Axes>"
      ]
     },
     "metadata": {
      "needs_background": "light"
     },
     "output_type": "display_data"
    }
   ],
   "source": [
    "plt.plot(history[1:, 0], history[1:, 1], 'b')\n",
    "plt.xlabel('繰り返し回数')\n",
    "plt.ylabel('損失')\n",
    "plt.title('学習曲線(損失)')\n",
    "plt.grid()\n",
    "plt.show()"
   ]
  },
  {
   "cell_type": "code",
   "execution_count": null,
   "metadata": {},
   "outputs": [],
   "source": []
  }
 ],
 "metadata": {
  "interpreter": {
   "hash": "d4d1e4263499bec80672ea0156c357c1ee493ec2b1c70f0acce89fc37c4a6abe"
  },
  "kernelspec": {
   "display_name": "Python 3.8.8 64-bit ('base': conda)",
   "name": "python3"
  },
  "language_info": {
   "codemirror_mode": {
    "name": "ipython",
    "version": 3
   },
   "file_extension": ".py",
   "mimetype": "text/x-python",
   "name": "python",
   "nbconvert_exporter": "python",
   "pygments_lexer": "ipython3",
   "version": "3.8.8"
  },
  "orig_nbformat": 4
 },
 "nbformat": 4,
 "nbformat_minor": 2
}
